{
 "cells": [
  {
   "cell_type": "markdown",
   "id": "2dc3683c",
   "metadata": {},
   "source": [
    "NOTE: This notebook is used to do various analysis, EDA and try out different models and finally choose the one which gives good results."
   ]
  },
  {
   "cell_type": "code",
   "execution_count": 1,
   "id": "cd96ff08",
   "metadata": {},
   "outputs": [],
   "source": [
    "# importing libraries\n",
    "import pandas as pd\n",
    "import numpy as np\n",
    "import matplotlib.pyplot as plt\n",
    "import seaborn as sns\n",
    "import pickle\n",
    "import scipy\n",
    "from sklearn.model_selection import train_test_split\n",
    "from sklearn.metrics import mean_squared_error\n",
    "from sklearn.linear_model import LinearRegression, Ridge\n",
    "from scipy.stats import spearmanr\n",
    "from sklearn.preprocessing import StandardScaler\n",
    "from sklearn.svm import SVR\n",
    "from sklearn.neighbors import KNeighborsRegressor\n",
    "from sklearn.tree import DecisionTreeRegressor\n",
    "from sklearn.ensemble import RandomForestRegressor, AdaBoostRegressor\n",
    "\n",
    "# to supress warnings\n",
    "import warnings\n",
    "warnings.filterwarnings(\"ignore\")"
   ]
  },
  {
   "cell_type": "code",
   "execution_count": 2,
   "id": "98b5a9c6",
   "metadata": {},
   "outputs": [],
   "source": [
    "# function to find root mean squared error\n",
    "def rmse(y_true,y_pred):\n",
    "    return np.sqrt(mean_squared_error(y_true,y_pred))"
   ]
  },
  {
   "cell_type": "code",
   "execution_count": 3,
   "id": "4170ee61",
   "metadata": {},
   "outputs": [],
   "source": [
    "data = pd.read_csv(\"../dataset/babies.csv\")"
   ]
  },
  {
   "cell_type": "code",
   "execution_count": 4,
   "id": "79e51249",
   "metadata": {},
   "outputs": [
    {
     "data": {
      "text/html": [
       "<div>\n",
       "<style scoped>\n",
       "    .dataframe tbody tr th:only-of-type {\n",
       "        vertical-align: middle;\n",
       "    }\n",
       "\n",
       "    .dataframe tbody tr th {\n",
       "        vertical-align: top;\n",
       "    }\n",
       "\n",
       "    .dataframe thead th {\n",
       "        text-align: right;\n",
       "    }\n",
       "</style>\n",
       "<table border=\"1\" class=\"dataframe\">\n",
       "  <thead>\n",
       "    <tr style=\"text-align: right;\">\n",
       "      <th></th>\n",
       "      <th>birth_weight</th>\n",
       "      <th>gestation</th>\n",
       "      <th>parity</th>\n",
       "      <th>age</th>\n",
       "      <th>height</th>\n",
       "      <th>weight</th>\n",
       "      <th>smoke</th>\n",
       "    </tr>\n",
       "  </thead>\n",
       "  <tbody>\n",
       "    <tr>\n",
       "      <th>0</th>\n",
       "      <td>120</td>\n",
       "      <td>284</td>\n",
       "      <td>0</td>\n",
       "      <td>27</td>\n",
       "      <td>62</td>\n",
       "      <td>100</td>\n",
       "      <td>0</td>\n",
       "    </tr>\n",
       "    <tr>\n",
       "      <th>1</th>\n",
       "      <td>113</td>\n",
       "      <td>282</td>\n",
       "      <td>0</td>\n",
       "      <td>33</td>\n",
       "      <td>64</td>\n",
       "      <td>135</td>\n",
       "      <td>0</td>\n",
       "    </tr>\n",
       "    <tr>\n",
       "      <th>2</th>\n",
       "      <td>128</td>\n",
       "      <td>279</td>\n",
       "      <td>0</td>\n",
       "      <td>28</td>\n",
       "      <td>64</td>\n",
       "      <td>115</td>\n",
       "      <td>1</td>\n",
       "    </tr>\n",
       "    <tr>\n",
       "      <th>3</th>\n",
       "      <td>108</td>\n",
       "      <td>282</td>\n",
       "      <td>0</td>\n",
       "      <td>23</td>\n",
       "      <td>67</td>\n",
       "      <td>125</td>\n",
       "      <td>1</td>\n",
       "    </tr>\n",
       "    <tr>\n",
       "      <th>4</th>\n",
       "      <td>136</td>\n",
       "      <td>286</td>\n",
       "      <td>0</td>\n",
       "      <td>25</td>\n",
       "      <td>62</td>\n",
       "      <td>93</td>\n",
       "      <td>0</td>\n",
       "    </tr>\n",
       "  </tbody>\n",
       "</table>\n",
       "</div>"
      ],
      "text/plain": [
       "   birth_weight  gestation  parity  age  height  weight  smoke\n",
       "0           120        284       0   27      62     100      0\n",
       "1           113        282       0   33      64     135      0\n",
       "2           128        279       0   28      64     115      1\n",
       "3           108        282       0   23      67     125      1\n",
       "4           136        286       0   25      62      93      0"
      ]
     },
     "execution_count": 4,
     "metadata": {},
     "output_type": "execute_result"
    }
   ],
   "source": [
    "data.head()"
   ]
  },
  {
   "cell_type": "code",
   "execution_count": 5,
   "id": "fa2c7a3f",
   "metadata": {},
   "outputs": [
    {
     "data": {
      "text/html": [
       "<div>\n",
       "<style scoped>\n",
       "    .dataframe tbody tr th:only-of-type {\n",
       "        vertical-align: middle;\n",
       "    }\n",
       "\n",
       "    .dataframe tbody tr th {\n",
       "        vertical-align: top;\n",
       "    }\n",
       "\n",
       "    .dataframe thead th {\n",
       "        text-align: right;\n",
       "    }\n",
       "</style>\n",
       "<table border=\"1\" class=\"dataframe\">\n",
       "  <thead>\n",
       "    <tr style=\"text-align: right;\">\n",
       "      <th></th>\n",
       "      <th>birth_weight</th>\n",
       "      <th>gestation</th>\n",
       "      <th>parity</th>\n",
       "      <th>age</th>\n",
       "      <th>height</th>\n",
       "      <th>weight</th>\n",
       "      <th>smoke</th>\n",
       "    </tr>\n",
       "  </thead>\n",
       "  <tbody>\n",
       "    <tr>\n",
       "      <th>0</th>\n",
       "      <td>3.402</td>\n",
       "      <td>284</td>\n",
       "      <td>0</td>\n",
       "      <td>27</td>\n",
       "      <td>62</td>\n",
       "      <td>45.360</td>\n",
       "      <td>0</td>\n",
       "    </tr>\n",
       "    <tr>\n",
       "      <th>1</th>\n",
       "      <td>3.203</td>\n",
       "      <td>282</td>\n",
       "      <td>0</td>\n",
       "      <td>33</td>\n",
       "      <td>64</td>\n",
       "      <td>61.236</td>\n",
       "      <td>0</td>\n",
       "    </tr>\n",
       "    <tr>\n",
       "      <th>2</th>\n",
       "      <td>3.629</td>\n",
       "      <td>279</td>\n",
       "      <td>0</td>\n",
       "      <td>28</td>\n",
       "      <td>64</td>\n",
       "      <td>52.164</td>\n",
       "      <td>1</td>\n",
       "    </tr>\n",
       "    <tr>\n",
       "      <th>3</th>\n",
       "      <td>3.062</td>\n",
       "      <td>282</td>\n",
       "      <td>0</td>\n",
       "      <td>23</td>\n",
       "      <td>67</td>\n",
       "      <td>56.700</td>\n",
       "      <td>1</td>\n",
       "    </tr>\n",
       "    <tr>\n",
       "      <th>4</th>\n",
       "      <td>3.856</td>\n",
       "      <td>286</td>\n",
       "      <td>0</td>\n",
       "      <td>25</td>\n",
       "      <td>62</td>\n",
       "      <td>42.185</td>\n",
       "      <td>0</td>\n",
       "    </tr>\n",
       "  </tbody>\n",
       "</table>\n",
       "</div>"
      ],
      "text/plain": [
       "   birth_weight  gestation  parity  age  height  weight  smoke\n",
       "0         3.402        284       0   27      62  45.360      0\n",
       "1         3.203        282       0   33      64  61.236      0\n",
       "2         3.629        279       0   28      64  52.164      1\n",
       "3         3.062        282       0   23      67  56.700      1\n",
       "4         3.856        286       0   25      62  42.185      0"
      ]
     },
     "execution_count": 5,
     "metadata": {},
     "output_type": "execute_result"
    }
   ],
   "source": [
    "data['birth_weight'] = np.round(data['birth_weight']/35.274,3)\n",
    "data['weight'] = np.round(data['weight']/2.2046,3)\n",
    "data.head()"
   ]
  },
  {
   "cell_type": "markdown",
   "id": "98a2723f",
   "metadata": {},
   "source": [
    "### Information about dataset\n",
    "* target: birth_weight (in kgs)\n",
    "* gestation (in days)\n",
    "* parity (1 if first born else 0)\n",
    "* age (mother's age in years)\n",
    "* height (mother's height in inches)\n",
    "* weight (mother's weight in kgs during pregnancy)\n",
    "* smoke (whether the mother smokes or not 1 = yes and 0 = no)\n",
    "\n",
    "Dataset Source: http://people.reed.edu/~jones/141/BirthWgt.html"
   ]
  },
  {
   "cell_type": "code",
   "execution_count": 6,
   "id": "d52b1f10",
   "metadata": {},
   "outputs": [
    {
     "data": {
      "text/html": [
       "<div>\n",
       "<style scoped>\n",
       "    .dataframe tbody tr th:only-of-type {\n",
       "        vertical-align: middle;\n",
       "    }\n",
       "\n",
       "    .dataframe tbody tr th {\n",
       "        vertical-align: top;\n",
       "    }\n",
       "\n",
       "    .dataframe thead th {\n",
       "        text-align: right;\n",
       "    }\n",
       "</style>\n",
       "<table border=\"1\" class=\"dataframe\">\n",
       "  <thead>\n",
       "    <tr style=\"text-align: right;\">\n",
       "      <th></th>\n",
       "      <th>birth_weight</th>\n",
       "      <th>gestation</th>\n",
       "      <th>parity</th>\n",
       "      <th>age</th>\n",
       "      <th>height</th>\n",
       "      <th>weight</th>\n",
       "      <th>smoke</th>\n",
       "    </tr>\n",
       "  </thead>\n",
       "  <tbody>\n",
       "    <tr>\n",
       "      <th>count</th>\n",
       "      <td>1174.000000</td>\n",
       "      <td>1174.000000</td>\n",
       "      <td>1174.000000</td>\n",
       "      <td>1174.000000</td>\n",
       "      <td>1174.000000</td>\n",
       "      <td>1174.000000</td>\n",
       "      <td>1174.000000</td>\n",
       "    </tr>\n",
       "    <tr>\n",
       "      <th>mean</th>\n",
       "      <td>3.386701</td>\n",
       "      <td>279.101363</td>\n",
       "      <td>0.262351</td>\n",
       "      <td>27.228279</td>\n",
       "      <td>64.049404</td>\n",
       "      <td>58.277687</td>\n",
       "      <td>0.390971</td>\n",
       "    </tr>\n",
       "    <tr>\n",
       "      <th>std</th>\n",
       "      <td>0.519596</td>\n",
       "      <td>16.010305</td>\n",
       "      <td>0.440100</td>\n",
       "      <td>5.817839</td>\n",
       "      <td>2.526102</td>\n",
       "      <td>9.405013</td>\n",
       "      <td>0.488176</td>\n",
       "    </tr>\n",
       "    <tr>\n",
       "      <th>min</th>\n",
       "      <td>1.559000</td>\n",
       "      <td>148.000000</td>\n",
       "      <td>0.000000</td>\n",
       "      <td>15.000000</td>\n",
       "      <td>53.000000</td>\n",
       "      <td>39.463000</td>\n",
       "      <td>0.000000</td>\n",
       "    </tr>\n",
       "    <tr>\n",
       "      <th>25%</th>\n",
       "      <td>3.062000</td>\n",
       "      <td>272.000000</td>\n",
       "      <td>0.000000</td>\n",
       "      <td>23.000000</td>\n",
       "      <td>62.000000</td>\n",
       "      <td>51.823500</td>\n",
       "      <td>0.000000</td>\n",
       "    </tr>\n",
       "    <tr>\n",
       "      <th>50%</th>\n",
       "      <td>3.402000</td>\n",
       "      <td>280.000000</td>\n",
       "      <td>0.000000</td>\n",
       "      <td>26.000000</td>\n",
       "      <td>64.000000</td>\n",
       "      <td>56.700000</td>\n",
       "      <td>0.000000</td>\n",
       "    </tr>\n",
       "    <tr>\n",
       "      <th>75%</th>\n",
       "      <td>3.714000</td>\n",
       "      <td>288.000000</td>\n",
       "      <td>1.000000</td>\n",
       "      <td>31.000000</td>\n",
       "      <td>66.000000</td>\n",
       "      <td>63.050000</td>\n",
       "      <td>1.000000</td>\n",
       "    </tr>\n",
       "    <tr>\n",
       "      <th>max</th>\n",
       "      <td>4.990000</td>\n",
       "      <td>353.000000</td>\n",
       "      <td>1.000000</td>\n",
       "      <td>45.000000</td>\n",
       "      <td>72.000000</td>\n",
       "      <td>113.399000</td>\n",
       "      <td>1.000000</td>\n",
       "    </tr>\n",
       "  </tbody>\n",
       "</table>\n",
       "</div>"
      ],
      "text/plain": [
       "       birth_weight    gestation       parity          age       height  \\\n",
       "count   1174.000000  1174.000000  1174.000000  1174.000000  1174.000000   \n",
       "mean       3.386701   279.101363     0.262351    27.228279    64.049404   \n",
       "std        0.519596    16.010305     0.440100     5.817839     2.526102   \n",
       "min        1.559000   148.000000     0.000000    15.000000    53.000000   \n",
       "25%        3.062000   272.000000     0.000000    23.000000    62.000000   \n",
       "50%        3.402000   280.000000     0.000000    26.000000    64.000000   \n",
       "75%        3.714000   288.000000     1.000000    31.000000    66.000000   \n",
       "max        4.990000   353.000000     1.000000    45.000000    72.000000   \n",
       "\n",
       "            weight        smoke  \n",
       "count  1174.000000  1174.000000  \n",
       "mean     58.277687     0.390971  \n",
       "std       9.405013     0.488176  \n",
       "min      39.463000     0.000000  \n",
       "25%      51.823500     0.000000  \n",
       "50%      56.700000     0.000000  \n",
       "75%      63.050000     1.000000  \n",
       "max     113.399000     1.000000  "
      ]
     },
     "execution_count": 6,
     "metadata": {},
     "output_type": "execute_result"
    }
   ],
   "source": [
    "data.describe()"
   ]
  },
  {
   "cell_type": "code",
   "execution_count": 7,
   "id": "0b6b72f7",
   "metadata": {},
   "outputs": [
    {
     "data": {
      "text/plain": [
       "birth_weight    0\n",
       "gestation       0\n",
       "parity          0\n",
       "age             0\n",
       "height          0\n",
       "weight          0\n",
       "smoke           0\n",
       "dtype: int64"
      ]
     },
     "execution_count": 7,
     "metadata": {},
     "output_type": "execute_result"
    }
   ],
   "source": [
    "data.isnull().sum()"
   ]
  },
  {
   "cell_type": "code",
   "execution_count": 8,
   "id": "44d83411",
   "metadata": {},
   "outputs": [],
   "source": [
    "X = data.iloc[:,1:]\n",
    "y = data.iloc[:,0]"
   ]
  },
  {
   "cell_type": "code",
   "execution_count": 9,
   "id": "0238a505",
   "metadata": {},
   "outputs": [
    {
     "data": {
      "text/html": [
       "<div>\n",
       "<style scoped>\n",
       "    .dataframe tbody tr th:only-of-type {\n",
       "        vertical-align: middle;\n",
       "    }\n",
       "\n",
       "    .dataframe tbody tr th {\n",
       "        vertical-align: top;\n",
       "    }\n",
       "\n",
       "    .dataframe thead th {\n",
       "        text-align: right;\n",
       "    }\n",
       "</style>\n",
       "<table border=\"1\" class=\"dataframe\">\n",
       "  <thead>\n",
       "    <tr style=\"text-align: right;\">\n",
       "      <th></th>\n",
       "      <th>gestation</th>\n",
       "      <th>parity</th>\n",
       "      <th>age</th>\n",
       "      <th>height</th>\n",
       "      <th>weight</th>\n",
       "      <th>smoke</th>\n",
       "    </tr>\n",
       "  </thead>\n",
       "  <tbody>\n",
       "    <tr>\n",
       "      <th>0</th>\n",
       "      <td>284</td>\n",
       "      <td>0</td>\n",
       "      <td>27</td>\n",
       "      <td>62</td>\n",
       "      <td>45.360</td>\n",
       "      <td>0</td>\n",
       "    </tr>\n",
       "    <tr>\n",
       "      <th>1</th>\n",
       "      <td>282</td>\n",
       "      <td>0</td>\n",
       "      <td>33</td>\n",
       "      <td>64</td>\n",
       "      <td>61.236</td>\n",
       "      <td>0</td>\n",
       "    </tr>\n",
       "    <tr>\n",
       "      <th>2</th>\n",
       "      <td>279</td>\n",
       "      <td>0</td>\n",
       "      <td>28</td>\n",
       "      <td>64</td>\n",
       "      <td>52.164</td>\n",
       "      <td>1</td>\n",
       "    </tr>\n",
       "    <tr>\n",
       "      <th>3</th>\n",
       "      <td>282</td>\n",
       "      <td>0</td>\n",
       "      <td>23</td>\n",
       "      <td>67</td>\n",
       "      <td>56.700</td>\n",
       "      <td>1</td>\n",
       "    </tr>\n",
       "    <tr>\n",
       "      <th>4</th>\n",
       "      <td>286</td>\n",
       "      <td>0</td>\n",
       "      <td>25</td>\n",
       "      <td>62</td>\n",
       "      <td>42.185</td>\n",
       "      <td>0</td>\n",
       "    </tr>\n",
       "    <tr>\n",
       "      <th>...</th>\n",
       "      <td>...</td>\n",
       "      <td>...</td>\n",
       "      <td>...</td>\n",
       "      <td>...</td>\n",
       "      <td>...</td>\n",
       "      <td>...</td>\n",
       "    </tr>\n",
       "    <tr>\n",
       "      <th>1169</th>\n",
       "      <td>275</td>\n",
       "      <td>1</td>\n",
       "      <td>27</td>\n",
       "      <td>60</td>\n",
       "      <td>45.360</td>\n",
       "      <td>0</td>\n",
       "    </tr>\n",
       "    <tr>\n",
       "      <th>1170</th>\n",
       "      <td>265</td>\n",
       "      <td>0</td>\n",
       "      <td>24</td>\n",
       "      <td>67</td>\n",
       "      <td>54.432</td>\n",
       "      <td>0</td>\n",
       "    </tr>\n",
       "    <tr>\n",
       "      <th>1171</th>\n",
       "      <td>291</td>\n",
       "      <td>0</td>\n",
       "      <td>30</td>\n",
       "      <td>65</td>\n",
       "      <td>68.040</td>\n",
       "      <td>1</td>\n",
       "    </tr>\n",
       "    <tr>\n",
       "      <th>1172</th>\n",
       "      <td>281</td>\n",
       "      <td>1</td>\n",
       "      <td>21</td>\n",
       "      <td>65</td>\n",
       "      <td>49.896</td>\n",
       "      <td>0</td>\n",
       "    </tr>\n",
       "    <tr>\n",
       "      <th>1173</th>\n",
       "      <td>297</td>\n",
       "      <td>0</td>\n",
       "      <td>38</td>\n",
       "      <td>65</td>\n",
       "      <td>58.514</td>\n",
       "      <td>0</td>\n",
       "    </tr>\n",
       "  </tbody>\n",
       "</table>\n",
       "<p>1174 rows × 6 columns</p>\n",
       "</div>"
      ],
      "text/plain": [
       "      gestation  parity  age  height  weight  smoke\n",
       "0           284       0   27      62  45.360      0\n",
       "1           282       0   33      64  61.236      0\n",
       "2           279       0   28      64  52.164      1\n",
       "3           282       0   23      67  56.700      1\n",
       "4           286       0   25      62  42.185      0\n",
       "...         ...     ...  ...     ...     ...    ...\n",
       "1169        275       1   27      60  45.360      0\n",
       "1170        265       0   24      67  54.432      0\n",
       "1171        291       0   30      65  68.040      1\n",
       "1172        281       1   21      65  49.896      0\n",
       "1173        297       0   38      65  58.514      0\n",
       "\n",
       "[1174 rows x 6 columns]"
      ]
     },
     "execution_count": 9,
     "metadata": {},
     "output_type": "execute_result"
    }
   ],
   "source": [
    "X"
   ]
  },
  {
   "cell_type": "code",
   "execution_count": 10,
   "id": "5b437080",
   "metadata": {},
   "outputs": [
    {
     "data": {
      "text/plain": [
       "0       3.402\n",
       "1       3.203\n",
       "2       3.629\n",
       "3       3.062\n",
       "4       3.856\n",
       "        ...  \n",
       "1169    3.203\n",
       "1170    3.629\n",
       "1171    3.685\n",
       "1172    3.544\n",
       "1173    3.317\n",
       "Name: birth_weight, Length: 1174, dtype: float64"
      ]
     },
     "execution_count": 10,
     "metadata": {},
     "output_type": "execute_result"
    }
   ],
   "source": [
    "y"
   ]
  },
  {
   "cell_type": "code",
   "execution_count": 11,
   "id": "6a110d82",
   "metadata": {},
   "outputs": [],
   "source": [
    "X_train, X_test, y_train, y_test = train_test_split(X,y,test_size = 0.15, random_state = 11)"
   ]
  },
  {
   "cell_type": "markdown",
   "id": "554cc736",
   "metadata": {},
   "source": [
    "### Baseline Models (Mean and kNN)"
   ]
  },
  {
   "cell_type": "markdown",
   "id": "a14f5e79",
   "metadata": {},
   "source": [
    "#### Baseline Model 1 : Mean"
   ]
  },
  {
   "cell_type": "code",
   "execution_count": 12,
   "id": "c36bc4b4",
   "metadata": {},
   "outputs": [],
   "source": [
    "class MeanRegressor:\n",
    "    \n",
    "    def __init__(self):\n",
    "        self.mean = None  # to store mean\n",
    "    \n",
    "    def fit(self,X,y):\n",
    "        self.mean = np.round(np.mean(y),3)\n",
    "        \n",
    "    def predict(self,X):\n",
    "        dim = X.shape[0]\n",
    "        y_pred = [self.mean for i in range(dim)]\n",
    "        y_pred = np.array(y_pred)\n",
    "        return y_pred"
   ]
  },
  {
   "cell_type": "code",
   "execution_count": 13,
   "id": "14bc5084",
   "metadata": {},
   "outputs": [
    {
     "name": "stdout",
     "output_type": "stream",
     "text": [
      "RMSE for Train Set: 0.5170415465730467\n",
      "RMSE for Test Set: 0.5323604297077723\n"
     ]
    }
   ],
   "source": [
    "mr = MeanRegressor()\n",
    "mr.fit(X_train,y_train)\n",
    "y_pred_mr_test = mr.predict(X_test)\n",
    "y_pred_mr_train = mr.predict(X_train)\n",
    "mr_rmse_test = rmse(y_test,y_pred_mr_test)\n",
    "mr_rmse_train = rmse(y_train,y_pred_mr_train)\n",
    "print(\"RMSE for Train Set:\",mr_rmse_train)\n",
    "print(\"RMSE for Test Set:\",mr_rmse_test)"
   ]
  },
  {
   "cell_type": "markdown",
   "id": "836f10ad",
   "metadata": {},
   "source": [
    "#### Baseline Model 2 : kNN"
   ]
  },
  {
   "cell_type": "code",
   "execution_count": 14,
   "id": "2ca871c9",
   "metadata": {},
   "outputs": [],
   "source": [
    "X_sc = StandardScaler().fit_transform(X)\n",
    "Xtrain, Xtest, ytrain, ytest = train_test_split(X_sc,y,test_size=0.15,random_state=11)"
   ]
  },
  {
   "cell_type": "markdown",
   "id": "8de7ed4b",
   "metadata": {},
   "source": [
    "With Standard Scaler"
   ]
  },
  {
   "cell_type": "code",
   "execution_count": 15,
   "id": "cee40a22",
   "metadata": {},
   "outputs": [
    {
     "name": "stdout",
     "output_type": "stream",
     "text": [
      "RMSE for Train Set: 0.3985684397987513\n",
      "RMSE for Test Set: 0.5058459592240279\n"
     ]
    }
   ],
   "source": [
    "knn = KNeighborsRegressor()\n",
    "knn.fit(Xtrain,ytrain)\n",
    "y_pred_knn_test = knn.predict(Xtest)\n",
    "y_pred_knn_train = knn.predict(Xtrain)\n",
    "knn_rmse_test = rmse(ytest,y_pred_knn_test)\n",
    "knn_rmse_train = rmse(ytrain,y_pred_knn_train)\n",
    "print(\"RMSE for Train Set:\",knn_rmse_train)\n",
    "print(\"RMSE for Test Set:\",knn_rmse_test)"
   ]
  },
  {
   "cell_type": "markdown",
   "id": "5fc70275",
   "metadata": {},
   "source": [
    "### Let's do some EDA"
   ]
  },
  {
   "cell_type": "code",
   "execution_count": 15,
   "id": "c9b7e9b5",
   "metadata": {},
   "outputs": [
    {
     "data": {
      "image/png": "[encoded data removed]",
      "text/plain": [
       "<Figure size 432x288 with 1 Axes>"
      ]
     },
     "metadata": {
      "needs_background": "light"
     },
     "output_type": "display_data"
    }
   ],
   "source": [
    "# relationship between input variable and output variable\n",
    "sns.distplot(data[data['parity'] == 0]['birth_weight'],label=\"parity=0\")\n",
    "sns.distplot(data[data['parity'] == 1]['birth_weight'],label=\"parity=1\")\n",
    "plt.title(\"Average weight of baby depending on parity\")\n",
    "plt.xlabel(\"Birth Weight in kgs\")\n",
    "plt.legend()\n",
    "plt.show()"
   ]
  },
  {
   "cell_type": "markdown",
   "id": "c3ec3a34",
   "metadata": {},
   "source": [
    "Insight: First born child has a little lower birth weight as compared to child born after first child."
   ]
  },
  {
   "cell_type": "code",
   "execution_count": 16,
   "id": "e59bb27f",
   "metadata": {},
   "outputs": [
    {
     "data": {
      "image/png": "[encoded data removed]",
      "text/plain": [
       "<Figure size 432x288 with 1 Axes>"
      ]
     },
     "metadata": {
      "needs_background": "light"
     },
     "output_type": "display_data"
    }
   ],
   "source": [
    "plt.scatter(data['gestation'],data['birth_weight'])\n",
    "plt.xlabel(\"Gestational Age in days\")\n",
    "plt.ylabel(\"Birth Weight in kgs\")\n",
    "plt.show()"
   ]
  },
  {
   "cell_type": "markdown",
   "id": "d3470388",
   "metadata": {},
   "source": [
    "Insight: It is quite obvious that as gestational age increases then birth weight also increases."
   ]
  },
  {
   "cell_type": "code",
   "execution_count": 17,
   "id": "b27684ad",
   "metadata": {},
   "outputs": [
    {
     "data": {
      "image/png": "[encoded data removed]",
      "text/plain": [
       "<Figure size 432x288 with 1 Axes>"
      ]
     },
     "metadata": {
      "needs_background": "light"
     },
     "output_type": "display_data"
    }
   ],
   "source": [
    "sns.scatterplot(x=data.groupby('age').mean()['birth_weight'].index,y=data.groupby('age').mean()['birth_weight'])\n",
    "plt.xlabel(\"Mother's Age\")\n",
    "plt.ylabel(\"Baby's weight in kg\")\n",
    "plt.show()"
   ]
  },
  {
   "cell_type": "markdown",
   "id": "ebd8d250",
   "metadata": {},
   "source": [
    "Insight: Baby after 42 age and before 20 years of age is risky"
   ]
  },
  {
   "cell_type": "code",
   "execution_count": 18,
   "id": "6adc6b79",
   "metadata": {},
   "outputs": [
    {
     "data": {
      "image/png": "[encoded data removed]",
      "text/plain": [
       "<Figure size 432x288 with 1 Axes>"
      ]
     },
     "metadata": {
      "needs_background": "light"
     },
     "output_type": "display_data"
    }
   ],
   "source": [
    "# relationship between input variable and output variable\n",
    "sns.distplot(data[data['smoke'] == 0]['birth_weight'],label=\"smoke=0\")\n",
    "sns.distplot(data[data['smoke'] == 1]['birth_weight'],label=\"smoke=1\")\n",
    "plt.title(\"Average weight of baby depending on mother's smoke/not\")\n",
    "plt.xlabel(\"Birth Weight in kgs\")\n",
    "plt.legend()\n",
    "plt.show()"
   ]
  },
  {
   "cell_type": "markdown",
   "id": "19becd4f",
   "metadata": {},
   "source": [
    "NOTE: Usually smokers mothers have lower weight babies"
   ]
  },
  {
   "cell_type": "code",
   "execution_count": 19,
   "id": "246e21c6",
   "metadata": {},
   "outputs": [
    {
     "data": {
      "image/png": "[encoded data removed]",
      "text/plain": [
       "<Figure size 432x288 with 1 Axes>"
      ]
     },
     "metadata": {
      "needs_background": "light"
     },
     "output_type": "display_data"
    }
   ],
   "source": [
    "sns.scatterplot(x=data.groupby('weight').mean()['birth_weight'].index,y=data.groupby('weight').mean()['birth_weight'])\n",
    "plt.xlabel(\"Mother's Weight\")\n",
    "plt.ylabel(\"Baby's weight in kg\")\n",
    "plt.show()"
   ]
  },
  {
   "cell_type": "code",
   "execution_count": 20,
   "id": "78f00ea8",
   "metadata": {},
   "outputs": [
    {
     "data": {
      "image/png": "[encoded data removed]",
      "text/plain": [
       "<Figure size 432x288 with 1 Axes>"
      ]
     },
     "metadata": {
      "needs_background": "light"
     },
     "output_type": "display_data"
    }
   ],
   "source": [
    "sns.scatterplot(x=data.groupby('height').mean()['birth_weight'].index,y=data.groupby('height').mean()['birth_weight'])\n",
    "plt.xlabel(\"Mother's Height\")\n",
    "plt.ylabel(\"Baby's weight in kg\")\n",
    "plt.show()"
   ]
  },
  {
   "cell_type": "markdown",
   "id": "4024e7af",
   "metadata": {},
   "source": [
    "### Trying with Linear Regression"
   ]
  },
  {
   "cell_type": "code",
   "execution_count": 14,
   "id": "ba5fdd37",
   "metadata": {},
   "outputs": [
    {
     "name": "stdout",
     "output_type": "stream",
     "text": [
      "RMSE for Train Set: 0.4452425843027932\n",
      "RMSE for Test Set: 0.4596737420742481\n"
     ]
    }
   ],
   "source": [
    "lr = LinearRegression()\n",
    "lr.fit(X_train,y_train)\n",
    "y_pred_lr_test = np.apply_along_axis((lambda x:np.round(x,3)),arr=lr.predict(X_test),axis=0)\n",
    "y_pred_lr_train = np.apply_along_axis((lambda x:np.round(x,3)),arr=lr.predict(X_train),axis=0)\n",
    "lr_rmse_test = rmse(y_test,y_pred_lr_test)\n",
    "lr_rmse_train = rmse(y_train,y_pred_lr_train)\n",
    "print(\"RMSE for Train Set:\",lr_rmse_train)\n",
    "print(\"RMSE for Test Set:\",lr_rmse_test)"
   ]
  },
  {
   "cell_type": "code",
   "execution_count": 22,
   "id": "ea03bd8d",
   "metadata": {},
   "outputs": [],
   "source": [
    "def model_eval(model,X_train,X_test,y_train,y_test):\n",
    "    model.fit(X_train,y_train)\n",
    "    y_pred_test = np.apply_along_axis((lambda x:np.round(x,3)),arr=model.predict(X_test),axis=0)\n",
    "    y_pred_train = np.apply_along_axis((lambda x:np.round(x,3)),arr=model.predict(X_train),axis=0)\n",
    "    rmse_test = rmse(y_test,y_pred_test)\n",
    "    rmse_train = rmse(y_train,y_pred_train)\n",
    "    return rmse_train, rmse_test"
   ]
  },
  {
   "cell_type": "markdown",
   "id": "83efa775",
   "metadata": {},
   "source": [
    "### Trying with SVR"
   ]
  },
  {
   "cell_type": "code",
   "execution_count": 25,
   "id": "c64e2f7f",
   "metadata": {},
   "outputs": [
    {
     "data": {
      "text/html": [
       "<div>\n",
       "<style scoped>\n",
       "    .dataframe tbody tr th:only-of-type {\n",
       "        vertical-align: middle;\n",
       "    }\n",
       "\n",
       "    .dataframe tbody tr th {\n",
       "        vertical-align: top;\n",
       "    }\n",
       "\n",
       "    .dataframe thead th {\n",
       "        text-align: right;\n",
       "    }\n",
       "</style>\n",
       "<table border=\"1\" class=\"dataframe\">\n",
       "  <thead>\n",
       "    <tr style=\"text-align: right;\">\n",
       "      <th></th>\n",
       "      <th>Kernel</th>\n",
       "      <th>C</th>\n",
       "      <th>epsilon</th>\n",
       "      <th>Train RMSE</th>\n",
       "      <th>Test RMSE</th>\n",
       "    </tr>\n",
       "  </thead>\n",
       "  <tbody>\n",
       "    <tr>\n",
       "      <th>0</th>\n",
       "      <td>linear</td>\n",
       "      <td>0.5</td>\n",
       "      <td>0.00</td>\n",
       "      <td>0.445691</td>\n",
       "      <td>0.459609</td>\n",
       "    </tr>\n",
       "    <tr>\n",
       "      <th>1</th>\n",
       "      <td>linear</td>\n",
       "      <td>0.5</td>\n",
       "      <td>0.05</td>\n",
       "      <td>0.445894</td>\n",
       "      <td>0.458999</td>\n",
       "    </tr>\n",
       "    <tr>\n",
       "      <th>2</th>\n",
       "      <td>linear</td>\n",
       "      <td>0.5</td>\n",
       "      <td>0.10</td>\n",
       "      <td>0.445695</td>\n",
       "      <td>0.459228</td>\n",
       "    </tr>\n",
       "    <tr>\n",
       "      <th>3</th>\n",
       "      <td>linear</td>\n",
       "      <td>0.5</td>\n",
       "      <td>0.15</td>\n",
       "      <td>0.445538</td>\n",
       "      <td>0.459288</td>\n",
       "    </tr>\n",
       "    <tr>\n",
       "      <th>4</th>\n",
       "      <td>linear</td>\n",
       "      <td>0.5</td>\n",
       "      <td>0.20</td>\n",
       "      <td>0.445379</td>\n",
       "      <td>0.459410</td>\n",
       "    </tr>\n",
       "    <tr>\n",
       "      <th>...</th>\n",
       "      <td>...</td>\n",
       "      <td>...</td>\n",
       "      <td>...</td>\n",
       "      <td>...</td>\n",
       "      <td>...</td>\n",
       "    </tr>\n",
       "    <tr>\n",
       "      <th>139</th>\n",
       "      <td>sigmoid</td>\n",
       "      <td>1.6</td>\n",
       "      <td>0.05</td>\n",
       "      <td>1.637021</td>\n",
       "      <td>1.517174</td>\n",
       "    </tr>\n",
       "    <tr>\n",
       "      <th>140</th>\n",
       "      <td>sigmoid</td>\n",
       "      <td>1.6</td>\n",
       "      <td>0.10</td>\n",
       "      <td>1.638022</td>\n",
       "      <td>1.518078</td>\n",
       "    </tr>\n",
       "    <tr>\n",
       "      <th>141</th>\n",
       "      <td>sigmoid</td>\n",
       "      <td>1.6</td>\n",
       "      <td>0.15</td>\n",
       "      <td>1.636053</td>\n",
       "      <td>1.517398</td>\n",
       "    </tr>\n",
       "    <tr>\n",
       "      <th>142</th>\n",
       "      <td>sigmoid</td>\n",
       "      <td>1.6</td>\n",
       "      <td>0.20</td>\n",
       "      <td>1.628455</td>\n",
       "      <td>1.509504</td>\n",
       "    </tr>\n",
       "    <tr>\n",
       "      <th>143</th>\n",
       "      <td>sigmoid</td>\n",
       "      <td>1.6</td>\n",
       "      <td>0.30</td>\n",
       "      <td>1.620514</td>\n",
       "      <td>1.501917</td>\n",
       "    </tr>\n",
       "  </tbody>\n",
       "</table>\n",
       "<p>144 rows × 5 columns</p>\n",
       "</div>"
      ],
      "text/plain": [
       "      Kernel    C  epsilon  Train RMSE  Test RMSE\n",
       "0     linear  0.5     0.00    0.445691   0.459609\n",
       "1     linear  0.5     0.05    0.445894   0.458999\n",
       "2     linear  0.5     0.10    0.445695   0.459228\n",
       "3     linear  0.5     0.15    0.445538   0.459288\n",
       "4     linear  0.5     0.20    0.445379   0.459410\n",
       "..       ...  ...      ...         ...        ...\n",
       "139  sigmoid  1.6     0.05    1.637021   1.517174\n",
       "140  sigmoid  1.6     0.10    1.638022   1.518078\n",
       "141  sigmoid  1.6     0.15    1.636053   1.517398\n",
       "142  sigmoid  1.6     0.20    1.628455   1.509504\n",
       "143  sigmoid  1.6     0.30    1.620514   1.501917\n",
       "\n",
       "[144 rows x 5 columns]"
      ]
     },
     "execution_count": 25,
     "metadata": {},
     "output_type": "execute_result"
    }
   ],
   "source": [
    "train = []\n",
    "test = []\n",
    "kernel_params = []\n",
    "c_params = []\n",
    "epsilon_params = []\n",
    "for i in ['linear','poly','rbf','sigmoid']:\n",
    "    for j in [0.5,0.8,1,1.2,1.4,1.6]:\n",
    "        for k in [0,0.05,0.1,0.15,0.2,0.3]:\n",
    "                kernel_params.append(i)\n",
    "                c_params.append(j)\n",
    "                epsilon_params.append(k)\n",
    "                train_rmse, test_rmse = model_eval(SVR(kernel=i,C=j,epsilon=k),X_train,X_test,y_train,y_test)\n",
    "                train.append(train_rmse)\n",
    "                test.append(test_rmse)\n",
    "            \n",
    "dfsvr = pd.DataFrame(zip(kernel_params,c_params,epsilon_params,train,test),\n",
    "                 columns = ['Kernel','C','epsilon','Train RMSE','Test RMSE'])\n",
    "dfsvr"
   ]
  },
  {
   "cell_type": "code",
   "execution_count": 26,
   "id": "d914ec18",
   "metadata": {},
   "outputs": [
    {
     "data": {
      "text/plain": [
       "(0.4453790999001678, 4)"
      ]
     },
     "execution_count": 26,
     "metadata": {},
     "output_type": "execute_result"
    }
   ],
   "source": [
    "dfsvr['Train RMSE'].min(), dfsvr['Train RMSE'].argmin()"
   ]
  },
  {
   "cell_type": "code",
   "execution_count": 27,
   "id": "61a0fce9",
   "metadata": {},
   "outputs": [
    {
     "data": {
      "text/plain": [
       "(0.45899868911595976, 1)"
      ]
     },
     "execution_count": 27,
     "metadata": {},
     "output_type": "execute_result"
    }
   ],
   "source": [
    "dfsvr['Test RMSE'].min(), dfsvr['Test RMSE'].argmin()"
   ]
  },
  {
   "cell_type": "code",
   "execution_count": 28,
   "id": "7f84001d",
   "metadata": {
    "scrolled": true
   },
   "outputs": [
    {
     "data": {
      "text/plain": [
       "Kernel          linear\n",
       "C                  0.5\n",
       "epsilon           0.05\n",
       "Train RMSE    0.445894\n",
       "Test RMSE     0.458999\n",
       "Name: 1, dtype: object"
      ]
     },
     "execution_count": 28,
     "metadata": {},
     "output_type": "execute_result"
    }
   ],
   "source": [
    "dfsvr.iloc[1,:]"
   ]
  },
  {
   "cell_type": "markdown",
   "id": "f2fe5cef",
   "metadata": {},
   "source": [
    "### Trying with Decision Tree Regressor"
   ]
  },
  {
   "cell_type": "code",
   "execution_count": 33,
   "id": "e3328bec",
   "metadata": {},
   "outputs": [
    {
     "data": {
      "text/html": [
       "<div>\n",
       "<style scoped>\n",
       "    .dataframe tbody tr th:only-of-type {\n",
       "        vertical-align: middle;\n",
       "    }\n",
       "\n",
       "    .dataframe tbody tr th {\n",
       "        vertical-align: top;\n",
       "    }\n",
       "\n",
       "    .dataframe thead th {\n",
       "        text-align: right;\n",
       "    }\n",
       "</style>\n",
       "<table border=\"1\" class=\"dataframe\">\n",
       "  <thead>\n",
       "    <tr style=\"text-align: right;\">\n",
       "      <th></th>\n",
       "      <th>Criterion</th>\n",
       "      <th>max_depth</th>\n",
       "      <th>ccp_alpha</th>\n",
       "      <th>random_state</th>\n",
       "      <th>Train RMSE</th>\n",
       "      <th>Test RMSE</th>\n",
       "    </tr>\n",
       "  </thead>\n",
       "  <tbody>\n",
       "    <tr>\n",
       "      <th>0</th>\n",
       "      <td>squared_error</td>\n",
       "      <td>NaN</td>\n",
       "      <td>0.0</td>\n",
       "      <td>1</td>\n",
       "      <td>0.000000</td>\n",
       "      <td>0.639144</td>\n",
       "    </tr>\n",
       "    <tr>\n",
       "      <th>1</th>\n",
       "      <td>squared_error</td>\n",
       "      <td>NaN</td>\n",
       "      <td>0.0</td>\n",
       "      <td>8</td>\n",
       "      <td>0.000000</td>\n",
       "      <td>0.655134</td>\n",
       "    </tr>\n",
       "    <tr>\n",
       "      <th>2</th>\n",
       "      <td>squared_error</td>\n",
       "      <td>NaN</td>\n",
       "      <td>0.0</td>\n",
       "      <td>28</td>\n",
       "      <td>0.000000</td>\n",
       "      <td>0.651402</td>\n",
       "    </tr>\n",
       "    <tr>\n",
       "      <th>3</th>\n",
       "      <td>squared_error</td>\n",
       "      <td>NaN</td>\n",
       "      <td>0.0</td>\n",
       "      <td>11</td>\n",
       "      <td>0.000000</td>\n",
       "      <td>0.643817</td>\n",
       "    </tr>\n",
       "    <tr>\n",
       "      <th>4</th>\n",
       "      <td>squared_error</td>\n",
       "      <td>NaN</td>\n",
       "      <td>0.0</td>\n",
       "      <td>42</td>\n",
       "      <td>0.000000</td>\n",
       "      <td>0.641522</td>\n",
       "    </tr>\n",
       "    <tr>\n",
       "      <th>...</th>\n",
       "      <td>...</td>\n",
       "      <td>...</td>\n",
       "      <td>...</td>\n",
       "      <td>...</td>\n",
       "      <td>...</td>\n",
       "      <td>...</td>\n",
       "    </tr>\n",
       "    <tr>\n",
       "      <th>955</th>\n",
       "      <td>poisson</td>\n",
       "      <td>5.0</td>\n",
       "      <td>1.5</td>\n",
       "      <td>1</td>\n",
       "      <td>0.517042</td>\n",
       "      <td>0.532360</td>\n",
       "    </tr>\n",
       "    <tr>\n",
       "      <th>956</th>\n",
       "      <td>poisson</td>\n",
       "      <td>5.0</td>\n",
       "      <td>1.5</td>\n",
       "      <td>8</td>\n",
       "      <td>0.517042</td>\n",
       "      <td>0.532360</td>\n",
       "    </tr>\n",
       "    <tr>\n",
       "      <th>957</th>\n",
       "      <td>poisson</td>\n",
       "      <td>5.0</td>\n",
       "      <td>1.5</td>\n",
       "      <td>28</td>\n",
       "      <td>0.517042</td>\n",
       "      <td>0.532360</td>\n",
       "    </tr>\n",
       "    <tr>\n",
       "      <th>958</th>\n",
       "      <td>poisson</td>\n",
       "      <td>5.0</td>\n",
       "      <td>1.5</td>\n",
       "      <td>11</td>\n",
       "      <td>0.517042</td>\n",
       "      <td>0.532360</td>\n",
       "    </tr>\n",
       "    <tr>\n",
       "      <th>959</th>\n",
       "      <td>poisson</td>\n",
       "      <td>5.0</td>\n",
       "      <td>1.5</td>\n",
       "      <td>42</td>\n",
       "      <td>0.517042</td>\n",
       "      <td>0.532360</td>\n",
       "    </tr>\n",
       "  </tbody>\n",
       "</table>\n",
       "<p>960 rows × 6 columns</p>\n",
       "</div>"
      ],
      "text/plain": [
       "         Criterion  max_depth  ccp_alpha  random_state  Train RMSE  Test RMSE\n",
       "0    squared_error        NaN        0.0             1    0.000000   0.639144\n",
       "1    squared_error        NaN        0.0             8    0.000000   0.655134\n",
       "2    squared_error        NaN        0.0            28    0.000000   0.651402\n",
       "3    squared_error        NaN        0.0            11    0.000000   0.643817\n",
       "4    squared_error        NaN        0.0            42    0.000000   0.641522\n",
       "..             ...        ...        ...           ...         ...        ...\n",
       "955        poisson        5.0        1.5             1    0.517042   0.532360\n",
       "956        poisson        5.0        1.5             8    0.517042   0.532360\n",
       "957        poisson        5.0        1.5            28    0.517042   0.532360\n",
       "958        poisson        5.0        1.5            11    0.517042   0.532360\n",
       "959        poisson        5.0        1.5            42    0.517042   0.532360\n",
       "\n",
       "[960 rows x 6 columns]"
      ]
     },
     "execution_count": 33,
     "metadata": {},
     "output_type": "execute_result"
    }
   ],
   "source": [
    "train = []\n",
    "test = []\n",
    "criterion_params = []\n",
    "max_depth_params = []\n",
    "ccp_alpha_params = []\n",
    "rs_params = []\n",
    "for i in [\"squared_error\", \"friedman_mse\", \"absolute_error\", \"poisson\"]:\n",
    "    for j in [None,1,2,3,4,5]:\n",
    "        for k in [0,0.2,0.4,0.6,0.8,1,1.2,1.5]:\n",
    "            for l in [1,8,28,11,42]:\n",
    "                criterion_params.append(i)\n",
    "                max_depth_params.append(j)\n",
    "                ccp_alpha_params.append(k)\n",
    "                rs_params.append(l)\n",
    "                train_rmse, test_rmse = model_eval(DecisionTreeRegressor(criterion=i,\n",
    "                                                                        max_depth=j,\n",
    "                                                                        ccp_alpha=k,\n",
    "                                                                        random_state=l),X_train,X_test,y_train,y_test)\n",
    "                train.append(train_rmse)\n",
    "                test.append(test_rmse)\n",
    "            \n",
    "dfdtr = pd.DataFrame(zip(criterion_params,max_depth_params,ccp_alpha_params,rs_params,train,test),\n",
    "                 columns = ['Criterion','max_depth','ccp_alpha','random_state','Train RMSE','Test RMSE'])\n",
    "dfdtr"
   ]
  },
  {
   "cell_type": "code",
   "execution_count": 34,
   "id": "fe6e42ca",
   "metadata": {},
   "outputs": [
    {
     "data": {
      "text/plain": [
       "(0.0, 0)"
      ]
     },
     "execution_count": 34,
     "metadata": {},
     "output_type": "execute_result"
    }
   ],
   "source": [
    "dfdtr['Train RMSE'].min(), dfdtr['Train RMSE'].argmin()"
   ]
  },
  {
   "cell_type": "code",
   "execution_count": 35,
   "id": "8b4b8cc5",
   "metadata": {},
   "outputs": [
    {
     "data": {
      "text/plain": [
       "(0.4580369190458773, 600)"
      ]
     },
     "execution_count": 35,
     "metadata": {},
     "output_type": "execute_result"
    }
   ],
   "source": [
    "dfdtr['Test RMSE'].min(), dfdtr['Test RMSE'].argmin()"
   ]
  },
  {
   "cell_type": "code",
   "execution_count": 37,
   "id": "6dbc323e",
   "metadata": {
    "scrolled": true
   },
   "outputs": [
    {
     "data": {
      "text/plain": [
       "Criterion       absolute_error\n",
       "max_depth                  3.0\n",
       "ccp_alpha                  0.0\n",
       "random_state                 1\n",
       "Train RMSE            0.444845\n",
       "Test RMSE             0.458037\n",
       "Name: 600, dtype: object"
      ]
     },
     "execution_count": 37,
     "metadata": {},
     "output_type": "execute_result"
    }
   ],
   "source": [
    "dfdtr.iloc[600,:]"
   ]
  },
  {
   "cell_type": "markdown",
   "id": "23943c36",
   "metadata": {},
   "source": [
    "### Trying with Random Forest Regressor"
   ]
  },
  {
   "cell_type": "code",
   "execution_count": 38,
   "id": "267367be",
   "metadata": {},
   "outputs": [],
   "source": [
    "train = []\n",
    "test = []\n",
    "criterion_params = []\n",
    "max_depth_params = []\n",
    "ccp_alpha_params = []\n",
    "nestimators_params = []\n",
    "rs_params = []\n",
    "for i in [\"squared_error\", \"absolute_error\", \"poisson\"]:\n",
    "    for j in [None,1,2,3,4,5]:\n",
    "        for k in [0,0.2,0.4,0.6,0.8,1,1.2,1.5]:\n",
    "            for l in [x for x in range(2,50)]:\n",
    "                for m in [1,8,28,11,42]:\n",
    "                    criterion_params.append(i)\n",
    "                    max_depth_params.append(j)\n",
    "                    ccp_alpha_params.append(k)\n",
    "                    nestimators_params.append(l)\n",
    "                    rs_params.append(m)\n",
    "                    train_rmse, test_rmse = model_eval(RandomForestRegressor(criterion=i,\n",
    "                                                                            max_depth=j,\n",
    "                                                                            ccp_alpha=k,\n",
    "                                                                            n_estimators=l,\n",
    "                                                                            n_jobs=-1,\n",
    "                                                                            random_state=m),X_train,X_test,y_train,y_test)\n",
    "                    train.append(train_rmse)\n",
    "                    test.append(test_rmse)"
   ]
  },
  {
   "cell_type": "code",
   "execution_count": 39,
   "id": "046faf3e",
   "metadata": {},
   "outputs": [
    {
     "data": {
      "text/html": [
       "<div>\n",
       "<style scoped>\n",
       "    .dataframe tbody tr th:only-of-type {\n",
       "        vertical-align: middle;\n",
       "    }\n",
       "\n",
       "    .dataframe tbody tr th {\n",
       "        vertical-align: top;\n",
       "    }\n",
       "\n",
       "    .dataframe thead th {\n",
       "        text-align: right;\n",
       "    }\n",
       "</style>\n",
       "<table border=\"1\" class=\"dataframe\">\n",
       "  <thead>\n",
       "    <tr style=\"text-align: right;\">\n",
       "      <th></th>\n",
       "      <th>Criterion</th>\n",
       "      <th>max_depth</th>\n",
       "      <th>ccp_alpha</th>\n",
       "      <th>n_estimators</th>\n",
       "      <th>random_state</th>\n",
       "      <th>Train RMSE</th>\n",
       "      <th>Test RMSE</th>\n",
       "    </tr>\n",
       "  </thead>\n",
       "  <tbody>\n",
       "    <tr>\n",
       "      <th>0</th>\n",
       "      <td>squared_error</td>\n",
       "      <td>NaN</td>\n",
       "      <td>0.0</td>\n",
       "      <td>2</td>\n",
       "      <td>1</td>\n",
       "      <td>0.302444</td>\n",
       "      <td>0.573499</td>\n",
       "    </tr>\n",
       "    <tr>\n",
       "      <th>1</th>\n",
       "      <td>squared_error</td>\n",
       "      <td>NaN</td>\n",
       "      <td>0.0</td>\n",
       "      <td>2</td>\n",
       "      <td>8</td>\n",
       "      <td>0.302616</td>\n",
       "      <td>0.544439</td>\n",
       "    </tr>\n",
       "    <tr>\n",
       "      <th>2</th>\n",
       "      <td>squared_error</td>\n",
       "      <td>NaN</td>\n",
       "      <td>0.0</td>\n",
       "      <td>2</td>\n",
       "      <td>28</td>\n",
       "      <td>0.296523</td>\n",
       "      <td>0.573592</td>\n",
       "    </tr>\n",
       "    <tr>\n",
       "      <th>3</th>\n",
       "      <td>squared_error</td>\n",
       "      <td>NaN</td>\n",
       "      <td>0.0</td>\n",
       "      <td>2</td>\n",
       "      <td>11</td>\n",
       "      <td>0.314711</td>\n",
       "      <td>0.598227</td>\n",
       "    </tr>\n",
       "    <tr>\n",
       "      <th>4</th>\n",
       "      <td>squared_error</td>\n",
       "      <td>NaN</td>\n",
       "      <td>0.0</td>\n",
       "      <td>2</td>\n",
       "      <td>42</td>\n",
       "      <td>0.306808</td>\n",
       "      <td>0.569709</td>\n",
       "    </tr>\n",
       "    <tr>\n",
       "      <th>...</th>\n",
       "      <td>...</td>\n",
       "      <td>...</td>\n",
       "      <td>...</td>\n",
       "      <td>...</td>\n",
       "      <td>...</td>\n",
       "      <td>...</td>\n",
       "      <td>...</td>\n",
       "    </tr>\n",
       "    <tr>\n",
       "      <th>34555</th>\n",
       "      <td>poisson</td>\n",
       "      <td>5.0</td>\n",
       "      <td>1.5</td>\n",
       "      <td>49</td>\n",
       "      <td>1</td>\n",
       "      <td>0.517044</td>\n",
       "      <td>0.532432</td>\n",
       "    </tr>\n",
       "    <tr>\n",
       "      <th>34556</th>\n",
       "      <td>poisson</td>\n",
       "      <td>5.0</td>\n",
       "      <td>1.5</td>\n",
       "      <td>49</td>\n",
       "      <td>8</td>\n",
       "      <td>0.517044</td>\n",
       "      <td>0.532432</td>\n",
       "    </tr>\n",
       "    <tr>\n",
       "      <th>34557</th>\n",
       "      <td>poisson</td>\n",
       "      <td>5.0</td>\n",
       "      <td>1.5</td>\n",
       "      <td>49</td>\n",
       "      <td>28</td>\n",
       "      <td>0.517042</td>\n",
       "      <td>0.532360</td>\n",
       "    </tr>\n",
       "    <tr>\n",
       "      <th>34558</th>\n",
       "      <td>poisson</td>\n",
       "      <td>5.0</td>\n",
       "      <td>1.5</td>\n",
       "      <td>49</td>\n",
       "      <td>11</td>\n",
       "      <td>0.517042</td>\n",
       "      <td>0.532360</td>\n",
       "    </tr>\n",
       "    <tr>\n",
       "      <th>34559</th>\n",
       "      <td>poisson</td>\n",
       "      <td>5.0</td>\n",
       "      <td>1.5</td>\n",
       "      <td>49</td>\n",
       "      <td>42</td>\n",
       "      <td>0.517053</td>\n",
       "      <td>0.532267</td>\n",
       "    </tr>\n",
       "  </tbody>\n",
       "</table>\n",
       "<p>34560 rows × 7 columns</p>\n",
       "</div>"
      ],
      "text/plain": [
       "           Criterion  max_depth  ccp_alpha  n_estimators  random_state  \\\n",
       "0      squared_error        NaN        0.0             2             1   \n",
       "1      squared_error        NaN        0.0             2             8   \n",
       "2      squared_error        NaN        0.0             2            28   \n",
       "3      squared_error        NaN        0.0             2            11   \n",
       "4      squared_error        NaN        0.0             2            42   \n",
       "...              ...        ...        ...           ...           ...   \n",
       "34555        poisson        5.0        1.5            49             1   \n",
       "34556        poisson        5.0        1.5            49             8   \n",
       "34557        poisson        5.0        1.5            49            28   \n",
       "34558        poisson        5.0        1.5            49            11   \n",
       "34559        poisson        5.0        1.5            49            42   \n",
       "\n",
       "       Train RMSE  Test RMSE  \n",
       "0        0.302444   0.573499  \n",
       "1        0.302616   0.544439  \n",
       "2        0.296523   0.573592  \n",
       "3        0.314711   0.598227  \n",
       "4        0.306808   0.569709  \n",
       "...           ...        ...  \n",
       "34555    0.517044   0.532432  \n",
       "34556    0.517044   0.532432  \n",
       "34557    0.517042   0.532360  \n",
       "34558    0.517042   0.532360  \n",
       "34559    0.517053   0.532267  \n",
       "\n",
       "[34560 rows x 7 columns]"
      ]
     },
     "execution_count": 39,
     "metadata": {},
     "output_type": "execute_result"
    }
   ],
   "source": [
    "dfrfr = pd.DataFrame(zip(criterion_params,max_depth_params,ccp_alpha_params,nestimators_params,rs_params,train,test),\n",
    "                 columns = ['Criterion','max_depth','ccp_alpha','n_estimators','random_state','Train RMSE','Test RMSE'])\n",
    "dfrfr"
   ]
  },
  {
   "cell_type": "code",
   "execution_count": 40,
   "id": "abb7c2c4",
   "metadata": {},
   "outputs": [
    {
     "data": {
      "text/plain": [
       "(0.17710187809754313, 235)"
      ]
     },
     "execution_count": 40,
     "metadata": {},
     "output_type": "execute_result"
    }
   ],
   "source": [
    "dfrfr['Train RMSE'].min(), dfrfr['Train RMSE'].argmin()"
   ]
  },
  {
   "cell_type": "code",
   "execution_count": 41,
   "id": "dc928e2d",
   "metadata": {},
   "outputs": [
    {
     "data": {
      "text/plain": [
       "(0.45077789637958826, 7691)"
      ]
     },
     "execution_count": 41,
     "metadata": {},
     "output_type": "execute_result"
    }
   ],
   "source": [
    "dfrfr['Test RMSE'].min(), dfrfr['Test RMSE'].argmin()"
   ]
  },
  {
   "cell_type": "code",
   "execution_count": 43,
   "id": "b6492184",
   "metadata": {
    "scrolled": true
   },
   "outputs": [
    {
     "data": {
      "text/plain": [
       "Criterion       squared_error\n",
       "max_depth                 4.0\n",
       "ccp_alpha                 0.0\n",
       "n_estimators                4\n",
       "random_state                8\n",
       "Train RMSE           0.419847\n",
       "Test RMSE            0.450778\n",
       "Name: 7691, dtype: object"
      ]
     },
     "execution_count": 43,
     "metadata": {},
     "output_type": "execute_result"
    }
   ],
   "source": [
    "dfrfr.iloc[7691,:]"
   ]
  },
  {
   "cell_type": "markdown",
   "id": "8dab66c6",
   "metadata": {},
   "source": [
    "### Trying with Adaboost Regressor"
   ]
  },
  {
   "cell_type": "code",
   "execution_count": 45,
   "id": "12cb0826",
   "metadata": {},
   "outputs": [
    {
     "data": {
      "text/html": [
       "<div>\n",
       "<style scoped>\n",
       "    .dataframe tbody tr th:only-of-type {\n",
       "        vertical-align: middle;\n",
       "    }\n",
       "\n",
       "    .dataframe tbody tr th {\n",
       "        vertical-align: top;\n",
       "    }\n",
       "\n",
       "    .dataframe thead th {\n",
       "        text-align: right;\n",
       "    }\n",
       "</style>\n",
       "<table border=\"1\" class=\"dataframe\">\n",
       "  <thead>\n",
       "    <tr style=\"text-align: right;\">\n",
       "      <th></th>\n",
       "      <th>n_estimators</th>\n",
       "      <th>learning rate</th>\n",
       "      <th>loss</th>\n",
       "      <th>random_state</th>\n",
       "      <th>Train RMSE</th>\n",
       "      <th>Test RMSE</th>\n",
       "    </tr>\n",
       "  </thead>\n",
       "  <tbody>\n",
       "    <tr>\n",
       "      <th>0</th>\n",
       "      <td>2</td>\n",
       "      <td>0.1</td>\n",
       "      <td>linear</td>\n",
       "      <td>1</td>\n",
       "      <td>0.449312</td>\n",
       "      <td>0.467959</td>\n",
       "    </tr>\n",
       "    <tr>\n",
       "      <th>1</th>\n",
       "      <td>2</td>\n",
       "      <td>0.1</td>\n",
       "      <td>linear</td>\n",
       "      <td>8</td>\n",
       "      <td>0.453072</td>\n",
       "      <td>0.476585</td>\n",
       "    </tr>\n",
       "    <tr>\n",
       "      <th>2</th>\n",
       "      <td>2</td>\n",
       "      <td>0.1</td>\n",
       "      <td>linear</td>\n",
       "      <td>28</td>\n",
       "      <td>0.451377</td>\n",
       "      <td>0.483064</td>\n",
       "    </tr>\n",
       "    <tr>\n",
       "      <th>3</th>\n",
       "      <td>2</td>\n",
       "      <td>0.1</td>\n",
       "      <td>linear</td>\n",
       "      <td>11</td>\n",
       "      <td>0.477811</td>\n",
       "      <td>0.478080</td>\n",
       "    </tr>\n",
       "    <tr>\n",
       "      <th>4</th>\n",
       "      <td>2</td>\n",
       "      <td>0.1</td>\n",
       "      <td>linear</td>\n",
       "      <td>42</td>\n",
       "      <td>0.453643</td>\n",
       "      <td>0.470101</td>\n",
       "    </tr>\n",
       "    <tr>\n",
       "      <th>...</th>\n",
       "      <td>...</td>\n",
       "      <td>...</td>\n",
       "      <td>...</td>\n",
       "      <td>...</td>\n",
       "      <td>...</td>\n",
       "      <td>...</td>\n",
       "    </tr>\n",
       "    <tr>\n",
       "      <th>5755</th>\n",
       "      <td>49</td>\n",
       "      <td>1.5</td>\n",
       "      <td>exponential</td>\n",
       "      <td>1</td>\n",
       "      <td>0.414698</td>\n",
       "      <td>0.485199</td>\n",
       "    </tr>\n",
       "    <tr>\n",
       "      <th>5756</th>\n",
       "      <td>49</td>\n",
       "      <td>1.5</td>\n",
       "      <td>exponential</td>\n",
       "      <td>8</td>\n",
       "      <td>0.415809</td>\n",
       "      <td>0.501987</td>\n",
       "    </tr>\n",
       "    <tr>\n",
       "      <th>5757</th>\n",
       "      <td>49</td>\n",
       "      <td>1.5</td>\n",
       "      <td>exponential</td>\n",
       "      <td>28</td>\n",
       "      <td>0.421807</td>\n",
       "      <td>0.507004</td>\n",
       "    </tr>\n",
       "    <tr>\n",
       "      <th>5758</th>\n",
       "      <td>49</td>\n",
       "      <td>1.5</td>\n",
       "      <td>exponential</td>\n",
       "      <td>11</td>\n",
       "      <td>0.414812</td>\n",
       "      <td>0.482105</td>\n",
       "    </tr>\n",
       "    <tr>\n",
       "      <th>5759</th>\n",
       "      <td>49</td>\n",
       "      <td>1.5</td>\n",
       "      <td>exponential</td>\n",
       "      <td>42</td>\n",
       "      <td>0.420927</td>\n",
       "      <td>0.511707</td>\n",
       "    </tr>\n",
       "  </tbody>\n",
       "</table>\n",
       "<p>5760 rows × 6 columns</p>\n",
       "</div>"
      ],
      "text/plain": [
       "      n_estimators  learning rate         loss  random_state  Train RMSE  \\\n",
       "0                2            0.1       linear             1    0.449312   \n",
       "1                2            0.1       linear             8    0.453072   \n",
       "2                2            0.1       linear            28    0.451377   \n",
       "3                2            0.1       linear            11    0.477811   \n",
       "4                2            0.1       linear            42    0.453643   \n",
       "...            ...            ...          ...           ...         ...   \n",
       "5755            49            1.5  exponential             1    0.414698   \n",
       "5756            49            1.5  exponential             8    0.415809   \n",
       "5757            49            1.5  exponential            28    0.421807   \n",
       "5758            49            1.5  exponential            11    0.414812   \n",
       "5759            49            1.5  exponential            42    0.420927   \n",
       "\n",
       "      Test RMSE  \n",
       "0      0.467959  \n",
       "1      0.476585  \n",
       "2      0.483064  \n",
       "3      0.478080  \n",
       "4      0.470101  \n",
       "...         ...  \n",
       "5755   0.485199  \n",
       "5756   0.501987  \n",
       "5757   0.507004  \n",
       "5758   0.482105  \n",
       "5759   0.511707  \n",
       "\n",
       "[5760 rows x 6 columns]"
      ]
     },
     "execution_count": 45,
     "metadata": {},
     "output_type": "execute_result"
    }
   ],
   "source": [
    "train = []\n",
    "test = []\n",
    "nestimator_params = []\n",
    "lr_params = []\n",
    "loss_params = []\n",
    "rs_params = []\n",
    "for i in [x for x in range(2,50)]:\n",
    "    for j in [0.1,0.3,0.5,0.7,0.9,1,1.2,1.5]:\n",
    "        for k in ['linear', 'square', 'exponential']:\n",
    "            for l in [1,8,28,11,42]:\n",
    "                nestimator_params.append(i)\n",
    "                lr_params.append(j)\n",
    "                loss_params.append(k)\n",
    "                rs_params.append(l)\n",
    "                train_rmse, test_rmse = model_eval(AdaBoostRegressor(base_estimator=DecisionTreeRegressor(\n",
    "                    criterion='absolute_error',max_depth=3,ccp_alpha=0,random_state=1),\n",
    "                                                   n_estimators=i,learning_rate=j,loss=k,random_state=l),\n",
    "                                                   X_train,X_test,y_train,y_test)\n",
    "                train.append(train_rmse)\n",
    "                test.append(test_rmse)\n",
    "            \n",
    "dfabr = pd.DataFrame(zip(nestimator_params,lr_params,loss_params,rs_params,train,test),\n",
    "                 columns = ['n_estimators','learning rate','loss','random_state','Train RMSE','Test RMSE'])\n",
    "dfabr"
   ]
  },
  {
   "cell_type": "code",
   "execution_count": 46,
   "id": "173b459b",
   "metadata": {},
   "outputs": [
    {
     "data": {
      "text/plain": [
       "(0.4057552290701295, 5140)"
      ]
     },
     "execution_count": 46,
     "metadata": {},
     "output_type": "execute_result"
    }
   ],
   "source": [
    "dfabr['Train RMSE'].min(), dfabr['Train RMSE'].argmin()"
   ]
  },
  {
   "cell_type": "code",
   "execution_count": 47,
   "id": "7aa0a734",
   "metadata": {},
   "outputs": [
    {
     "data": {
      "text/plain": [
       "(0.44166094442514214, 1182)"
      ]
     },
     "execution_count": 47,
     "metadata": {},
     "output_type": "execute_result"
    }
   ],
   "source": [
    "dfabr['Test RMSE'].min(), dfabr['Test RMSE'].argmin()"
   ]
  },
  {
   "cell_type": "code",
   "execution_count": 57,
   "id": "50900269",
   "metadata": {
    "scrolled": true
   },
   "outputs": [
    {
     "data": {
      "text/plain": [
       "n_estimators              11\n",
       "learning rate            1.2\n",
       "loss             exponential\n",
       "random_state              28\n",
       "Train RMSE          0.424414\n",
       "Test RMSE           0.441661\n",
       "Name: 1182, dtype: object"
      ]
     },
     "execution_count": 57,
     "metadata": {},
     "output_type": "execute_result"
    }
   ],
   "source": [
    "dfabr.iloc[1182,:]"
   ]
  },
  {
   "cell_type": "markdown",
   "id": "97356a81",
   "metadata": {},
   "source": [
    "Base Estimator: Linear Regression"
   ]
  },
  {
   "cell_type": "code",
   "execution_count": 49,
   "id": "319bab71",
   "metadata": {},
   "outputs": [
    {
     "data": {
      "text/html": [
       "<div>\n",
       "<style scoped>\n",
       "    .dataframe tbody tr th:only-of-type {\n",
       "        vertical-align: middle;\n",
       "    }\n",
       "\n",
       "    .dataframe tbody tr th {\n",
       "        vertical-align: top;\n",
       "    }\n",
       "\n",
       "    .dataframe thead th {\n",
       "        text-align: right;\n",
       "    }\n",
       "</style>\n",
       "<table border=\"1\" class=\"dataframe\">\n",
       "  <thead>\n",
       "    <tr style=\"text-align: right;\">\n",
       "      <th></th>\n",
       "      <th>n_estimators</th>\n",
       "      <th>learning rate</th>\n",
       "      <th>loss</th>\n",
       "      <th>random_state</th>\n",
       "      <th>Train RMSE</th>\n",
       "      <th>Test RMSE</th>\n",
       "    </tr>\n",
       "  </thead>\n",
       "  <tbody>\n",
       "    <tr>\n",
       "      <th>0</th>\n",
       "      <td>2</td>\n",
       "      <td>0.1</td>\n",
       "      <td>linear</td>\n",
       "      <td>1</td>\n",
       "      <td>0.446448</td>\n",
       "      <td>0.459512</td>\n",
       "    </tr>\n",
       "    <tr>\n",
       "      <th>1</th>\n",
       "      <td>2</td>\n",
       "      <td>0.1</td>\n",
       "      <td>linear</td>\n",
       "      <td>8</td>\n",
       "      <td>0.447064</td>\n",
       "      <td>0.462227</td>\n",
       "    </tr>\n",
       "    <tr>\n",
       "      <th>2</th>\n",
       "      <td>2</td>\n",
       "      <td>0.1</td>\n",
       "      <td>linear</td>\n",
       "      <td>28</td>\n",
       "      <td>0.446207</td>\n",
       "      <td>0.461150</td>\n",
       "    </tr>\n",
       "    <tr>\n",
       "      <th>3</th>\n",
       "      <td>2</td>\n",
       "      <td>0.1</td>\n",
       "      <td>linear</td>\n",
       "      <td>11</td>\n",
       "      <td>0.447566</td>\n",
       "      <td>0.464597</td>\n",
       "    </tr>\n",
       "    <tr>\n",
       "      <th>4</th>\n",
       "      <td>2</td>\n",
       "      <td>0.1</td>\n",
       "      <td>linear</td>\n",
       "      <td>42</td>\n",
       "      <td>0.446926</td>\n",
       "      <td>0.463803</td>\n",
       "    </tr>\n",
       "    <tr>\n",
       "      <th>...</th>\n",
       "      <td>...</td>\n",
       "      <td>...</td>\n",
       "      <td>...</td>\n",
       "      <td>...</td>\n",
       "      <td>...</td>\n",
       "      <td>...</td>\n",
       "    </tr>\n",
       "    <tr>\n",
       "      <th>5755</th>\n",
       "      <td>49</td>\n",
       "      <td>1.5</td>\n",
       "      <td>exponential</td>\n",
       "      <td>1</td>\n",
       "      <td>0.451803</td>\n",
       "      <td>0.468008</td>\n",
       "    </tr>\n",
       "    <tr>\n",
       "      <th>5756</th>\n",
       "      <td>49</td>\n",
       "      <td>1.5</td>\n",
       "      <td>exponential</td>\n",
       "      <td>8</td>\n",
       "      <td>0.449287</td>\n",
       "      <td>0.465413</td>\n",
       "    </tr>\n",
       "    <tr>\n",
       "      <th>5757</th>\n",
       "      <td>49</td>\n",
       "      <td>1.5</td>\n",
       "      <td>exponential</td>\n",
       "      <td>28</td>\n",
       "      <td>0.449770</td>\n",
       "      <td>0.464924</td>\n",
       "    </tr>\n",
       "    <tr>\n",
       "      <th>5758</th>\n",
       "      <td>49</td>\n",
       "      <td>1.5</td>\n",
       "      <td>exponential</td>\n",
       "      <td>11</td>\n",
       "      <td>0.449927</td>\n",
       "      <td>0.466982</td>\n",
       "    </tr>\n",
       "    <tr>\n",
       "      <th>5759</th>\n",
       "      <td>49</td>\n",
       "      <td>1.5</td>\n",
       "      <td>exponential</td>\n",
       "      <td>42</td>\n",
       "      <td>0.449216</td>\n",
       "      <td>0.467339</td>\n",
       "    </tr>\n",
       "  </tbody>\n",
       "</table>\n",
       "<p>5760 rows × 6 columns</p>\n",
       "</div>"
      ],
      "text/plain": [
       "      n_estimators  learning rate         loss  random_state  Train RMSE  \\\n",
       "0                2            0.1       linear             1    0.446448   \n",
       "1                2            0.1       linear             8    0.447064   \n",
       "2                2            0.1       linear            28    0.446207   \n",
       "3                2            0.1       linear            11    0.447566   \n",
       "4                2            0.1       linear            42    0.446926   \n",
       "...            ...            ...          ...           ...         ...   \n",
       "5755            49            1.5  exponential             1    0.451803   \n",
       "5756            49            1.5  exponential             8    0.449287   \n",
       "5757            49            1.5  exponential            28    0.449770   \n",
       "5758            49            1.5  exponential            11    0.449927   \n",
       "5759            49            1.5  exponential            42    0.449216   \n",
       "\n",
       "      Test RMSE  \n",
       "0      0.459512  \n",
       "1      0.462227  \n",
       "2      0.461150  \n",
       "3      0.464597  \n",
       "4      0.463803  \n",
       "...         ...  \n",
       "5755   0.468008  \n",
       "5756   0.465413  \n",
       "5757   0.464924  \n",
       "5758   0.466982  \n",
       "5759   0.467339  \n",
       "\n",
       "[5760 rows x 6 columns]"
      ]
     },
     "execution_count": 49,
     "metadata": {},
     "output_type": "execute_result"
    }
   ],
   "source": [
    "train = []\n",
    "test = []\n",
    "nestimator_params = []\n",
    "lr_params = []\n",
    "loss_params = []\n",
    "rs_params = []\n",
    "for i in [x for x in range(2,50)]:\n",
    "    for j in [0.1,0.3,0.5,0.7,0.9,1,1.2,1.5]:\n",
    "        for k in ['linear', 'square', 'exponential']:\n",
    "            for l in [1,8,28,11,42]:\n",
    "                nestimator_params.append(i)\n",
    "                lr_params.append(j)\n",
    "                loss_params.append(k)\n",
    "                rs_params.append(l)\n",
    "                train_rmse, test_rmse = model_eval(AdaBoostRegressor(base_estimator=LinearRegression(),\n",
    "                                                                     n_estimators=i,learning_rate=j,loss=k,\n",
    "                                                                    random_state=l),\n",
    "                                                   X_train,X_test,y_train,y_test)\n",
    "                train.append(train_rmse)\n",
    "                test.append(test_rmse)\n",
    "            \n",
    "dfabr2 = pd.DataFrame(zip(nestimator_params,lr_params,loss_params,rs_params,train,test),\n",
    "                 columns = ['n_estimators','learning rate','loss','random_state','Train RMSE','Test RMSE'])\n",
    "dfabr2"
   ]
  },
  {
   "cell_type": "code",
   "execution_count": 50,
   "id": "27509eda",
   "metadata": {},
   "outputs": [
    {
     "data": {
      "text/plain": [
       "(0.4442576590254898, 158)"
      ]
     },
     "execution_count": 50,
     "metadata": {},
     "output_type": "execute_result"
    }
   ],
   "source": [
    "dfabr2['Train RMSE'].min(), dfabr2['Train RMSE'].argmin()"
   ]
  },
  {
   "cell_type": "code",
   "execution_count": 51,
   "id": "6b4cbcc9",
   "metadata": {},
   "outputs": [
    {
     "data": {
      "text/plain": [
       "(0.4573648792467144, 190)"
      ]
     },
     "execution_count": 51,
     "metadata": {},
     "output_type": "execute_result"
    }
   ],
   "source": [
    "dfabr2['Test RMSE'].min(), dfabr2['Test RMSE'].argmin()"
   ]
  },
  {
   "cell_type": "code",
   "execution_count": 58,
   "id": "36f56b89",
   "metadata": {
    "scrolled": true
   },
   "outputs": [
    {
     "data": {
      "text/plain": [
       "n_estimators               3\n",
       "learning rate            0.9\n",
       "loss             exponential\n",
       "random_state               1\n",
       "Train RMSE          0.445993\n",
       "Test RMSE           0.457365\n",
       "Name: 190, dtype: object"
      ]
     },
     "execution_count": 58,
     "metadata": {},
     "output_type": "execute_result"
    }
   ],
   "source": [
    "dfabr2.iloc[190,:]"
   ]
  },
  {
   "cell_type": "markdown",
   "id": "24aeab75",
   "metadata": {},
   "source": [
    "Base Estimator: Ridge Regression"
   ]
  },
  {
   "cell_type": "code",
   "execution_count": 60,
   "id": "2fd08c44",
   "metadata": {},
   "outputs": [
    {
     "data": {
      "text/html": [
       "<div>\n",
       "<style scoped>\n",
       "    .dataframe tbody tr th:only-of-type {\n",
       "        vertical-align: middle;\n",
       "    }\n",
       "\n",
       "    .dataframe tbody tr th {\n",
       "        vertical-align: top;\n",
       "    }\n",
       "\n",
       "    .dataframe thead th {\n",
       "        text-align: right;\n",
       "    }\n",
       "</style>\n",
       "<table border=\"1\" class=\"dataframe\">\n",
       "  <thead>\n",
       "    <tr style=\"text-align: right;\">\n",
       "      <th></th>\n",
       "      <th>n_estimators</th>\n",
       "      <th>learning rate</th>\n",
       "      <th>loss</th>\n",
       "      <th>random_state</th>\n",
       "      <th>Train RMSE</th>\n",
       "      <th>Test RMSE</th>\n",
       "    </tr>\n",
       "  </thead>\n",
       "  <tbody>\n",
       "    <tr>\n",
       "      <th>0</th>\n",
       "      <td>2</td>\n",
       "      <td>0.1</td>\n",
       "      <td>linear</td>\n",
       "      <td>1</td>\n",
       "      <td>0.447454</td>\n",
       "      <td>0.461154</td>\n",
       "    </tr>\n",
       "    <tr>\n",
       "      <th>1</th>\n",
       "      <td>2</td>\n",
       "      <td>0.1</td>\n",
       "      <td>linear</td>\n",
       "      <td>8</td>\n",
       "      <td>0.447486</td>\n",
       "      <td>0.462348</td>\n",
       "    </tr>\n",
       "    <tr>\n",
       "      <th>2</th>\n",
       "      <td>2</td>\n",
       "      <td>0.1</td>\n",
       "      <td>linear</td>\n",
       "      <td>28</td>\n",
       "      <td>0.446993</td>\n",
       "      <td>0.463254</td>\n",
       "    </tr>\n",
       "    <tr>\n",
       "      <th>3</th>\n",
       "      <td>2</td>\n",
       "      <td>0.1</td>\n",
       "      <td>linear</td>\n",
       "      <td>11</td>\n",
       "      <td>0.447532</td>\n",
       "      <td>0.460451</td>\n",
       "    </tr>\n",
       "    <tr>\n",
       "      <th>4</th>\n",
       "      <td>2</td>\n",
       "      <td>0.1</td>\n",
       "      <td>linear</td>\n",
       "      <td>42</td>\n",
       "      <td>0.448734</td>\n",
       "      <td>0.461705</td>\n",
       "    </tr>\n",
       "    <tr>\n",
       "      <th>...</th>\n",
       "      <td>...</td>\n",
       "      <td>...</td>\n",
       "      <td>...</td>\n",
       "      <td>...</td>\n",
       "      <td>...</td>\n",
       "      <td>...</td>\n",
       "    </tr>\n",
       "    <tr>\n",
       "      <th>5755</th>\n",
       "      <td>49</td>\n",
       "      <td>1.5</td>\n",
       "      <td>exponential</td>\n",
       "      <td>1</td>\n",
       "      <td>0.449823</td>\n",
       "      <td>0.467007</td>\n",
       "    </tr>\n",
       "    <tr>\n",
       "      <th>5756</th>\n",
       "      <td>49</td>\n",
       "      <td>1.5</td>\n",
       "      <td>exponential</td>\n",
       "      <td>8</td>\n",
       "      <td>0.450676</td>\n",
       "      <td>0.465822</td>\n",
       "    </tr>\n",
       "    <tr>\n",
       "      <th>5757</th>\n",
       "      <td>49</td>\n",
       "      <td>1.5</td>\n",
       "      <td>exponential</td>\n",
       "      <td>28</td>\n",
       "      <td>0.450190</td>\n",
       "      <td>0.467521</td>\n",
       "    </tr>\n",
       "    <tr>\n",
       "      <th>5758</th>\n",
       "      <td>49</td>\n",
       "      <td>1.5</td>\n",
       "      <td>exponential</td>\n",
       "      <td>11</td>\n",
       "      <td>0.452084</td>\n",
       "      <td>0.465963</td>\n",
       "    </tr>\n",
       "    <tr>\n",
       "      <th>5759</th>\n",
       "      <td>49</td>\n",
       "      <td>1.5</td>\n",
       "      <td>exponential</td>\n",
       "      <td>42</td>\n",
       "      <td>0.450100</td>\n",
       "      <td>0.465749</td>\n",
       "    </tr>\n",
       "  </tbody>\n",
       "</table>\n",
       "<p>5760 rows × 6 columns</p>\n",
       "</div>"
      ],
      "text/plain": [
       "      n_estimators  learning rate         loss  random_state  Train RMSE  \\\n",
       "0                2            0.1       linear             1    0.447454   \n",
       "1                2            0.1       linear             8    0.447486   \n",
       "2                2            0.1       linear            28    0.446993   \n",
       "3                2            0.1       linear            11    0.447532   \n",
       "4                2            0.1       linear            42    0.448734   \n",
       "...            ...            ...          ...           ...         ...   \n",
       "5755            49            1.5  exponential             1    0.449823   \n",
       "5756            49            1.5  exponential             8    0.450676   \n",
       "5757            49            1.5  exponential            28    0.450190   \n",
       "5758            49            1.5  exponential            11    0.452084   \n",
       "5759            49            1.5  exponential            42    0.450100   \n",
       "\n",
       "      Test RMSE  \n",
       "0      0.461154  \n",
       "1      0.462348  \n",
       "2      0.463254  \n",
       "3      0.460451  \n",
       "4      0.461705  \n",
       "...         ...  \n",
       "5755   0.467007  \n",
       "5756   0.465822  \n",
       "5757   0.467521  \n",
       "5758   0.465963  \n",
       "5759   0.465749  \n",
       "\n",
       "[5760 rows x 6 columns]"
      ]
     },
     "execution_count": 60,
     "metadata": {},
     "output_type": "execute_result"
    }
   ],
   "source": [
    "train = []\n",
    "test = []\n",
    "nestimator_params = []\n",
    "lr_params = []\n",
    "loss_params = []\n",
    "rs_params = []\n",
    "for i in [x for x in range(2,50)]:\n",
    "    for j in [0.1,0.3,0.5,0.7,0.9,1,1.2,1.5]:\n",
    "        for k in ['linear', 'square', 'exponential']:\n",
    "            for l in [1,8,28,11,42]:\n",
    "                nestimator_params.append(i)\n",
    "                lr_params.append(j)\n",
    "                loss_params.append(k)\n",
    "                rs_params.append(l)\n",
    "                train_rmse, test_rmse = model_eval(AdaBoostRegressor(base_estimator=Ridge(random_state=1,\n",
    "                                                                                          alpha=1.0,solver='auto'),\n",
    "                                                                     n_estimators=i,learning_rate=j,loss=k,\n",
    "                                                                    random_state = l),\n",
    "                                                   X_train,X_test,y_train,y_test)\n",
    "                train.append(train_rmse)\n",
    "                test.append(test_rmse)\n",
    "            \n",
    "dfabr3 = pd.DataFrame(zip(nestimator_params,lr_params,loss_params,rs_params,train,test),\n",
    "                 columns = ['n_estimators','learning rate','loss','random_state','Train RMSE','Test RMSE'])\n",
    "dfabr3"
   ]
  },
  {
   "cell_type": "code",
   "execution_count": 61,
   "id": "b50a7f16",
   "metadata": {},
   "outputs": [
    {
     "data": {
      "text/plain": [
       "(0.44416063536746486, 403)"
      ]
     },
     "execution_count": 61,
     "metadata": {},
     "output_type": "execute_result"
    }
   ],
   "source": [
    "dfabr3['Train RMSE'].min(), dfabr3['Train RMSE'].argmin()"
   ]
  },
  {
   "cell_type": "code",
   "execution_count": 62,
   "id": "1820de5e",
   "metadata": {},
   "outputs": [
    {
     "data": {
      "text/plain": [
       "(0.45733858564624086, 565)"
      ]
     },
     "execution_count": 62,
     "metadata": {},
     "output_type": "execute_result"
    }
   ],
   "source": [
    "dfabr3['Test RMSE'].min(), dfabr3['Test RMSE'].argmin()"
   ]
  },
  {
   "cell_type": "code",
   "execution_count": 64,
   "id": "67388314",
   "metadata": {
    "scrolled": true
   },
   "outputs": [
    {
     "data": {
      "text/plain": [
       "n_estimators               6\n",
       "learning rate            1.0\n",
       "loss             exponential\n",
       "random_state               1\n",
       "Train RMSE          0.446275\n",
       "Test RMSE           0.457339\n",
       "Name: 565, dtype: object"
      ]
     },
     "execution_count": 64,
     "metadata": {},
     "output_type": "execute_result"
    }
   ],
   "source": [
    "dfabr3.iloc[565,:]"
   ]
  },
  {
   "cell_type": "markdown",
   "id": "e990d247",
   "metadata": {},
   "source": [
    "### Trying with Ridge Regression"
   ]
  },
  {
   "cell_type": "code",
   "execution_count": 53,
   "id": "3dfd3d68",
   "metadata": {},
   "outputs": [
    {
     "data": {
      "text/html": [
       "<div>\n",
       "<style scoped>\n",
       "    .dataframe tbody tr th:only-of-type {\n",
       "        vertical-align: middle;\n",
       "    }\n",
       "\n",
       "    .dataframe tbody tr th {\n",
       "        vertical-align: top;\n",
       "    }\n",
       "\n",
       "    .dataframe thead th {\n",
       "        text-align: right;\n",
       "    }\n",
       "</style>\n",
       "<table border=\"1\" class=\"dataframe\">\n",
       "  <thead>\n",
       "    <tr style=\"text-align: right;\">\n",
       "      <th></th>\n",
       "      <th>alpha</th>\n",
       "      <th>solver</th>\n",
       "      <th>random_state</th>\n",
       "      <th>Train RMSE</th>\n",
       "      <th>Test RMSE</th>\n",
       "    </tr>\n",
       "  </thead>\n",
       "  <tbody>\n",
       "    <tr>\n",
       "      <th>0</th>\n",
       "      <td>0.5</td>\n",
       "      <td>auto</td>\n",
       "      <td>1</td>\n",
       "      <td>0.445258</td>\n",
       "      <td>0.459637</td>\n",
       "    </tr>\n",
       "    <tr>\n",
       "      <th>1</th>\n",
       "      <td>0.5</td>\n",
       "      <td>auto</td>\n",
       "      <td>8</td>\n",
       "      <td>0.445258</td>\n",
       "      <td>0.459637</td>\n",
       "    </tr>\n",
       "    <tr>\n",
       "      <th>2</th>\n",
       "      <td>0.5</td>\n",
       "      <td>auto</td>\n",
       "      <td>28</td>\n",
       "      <td>0.445258</td>\n",
       "      <td>0.459637</td>\n",
       "    </tr>\n",
       "    <tr>\n",
       "      <th>3</th>\n",
       "      <td>0.5</td>\n",
       "      <td>auto</td>\n",
       "      <td>11</td>\n",
       "      <td>0.445258</td>\n",
       "      <td>0.459637</td>\n",
       "    </tr>\n",
       "    <tr>\n",
       "      <th>4</th>\n",
       "      <td>0.5</td>\n",
       "      <td>auto</td>\n",
       "      <td>42</td>\n",
       "      <td>0.445258</td>\n",
       "      <td>0.459637</td>\n",
       "    </tr>\n",
       "    <tr>\n",
       "      <th>...</th>\n",
       "      <td>...</td>\n",
       "      <td>...</td>\n",
       "      <td>...</td>\n",
       "      <td>...</td>\n",
       "      <td>...</td>\n",
       "    </tr>\n",
       "    <tr>\n",
       "      <th>170</th>\n",
       "      <td>1.5</td>\n",
       "      <td>saga</td>\n",
       "      <td>1</td>\n",
       "      <td>0.445604</td>\n",
       "      <td>0.460554</td>\n",
       "    </tr>\n",
       "    <tr>\n",
       "      <th>171</th>\n",
       "      <td>1.5</td>\n",
       "      <td>saga</td>\n",
       "      <td>8</td>\n",
       "      <td>0.445604</td>\n",
       "      <td>0.460534</td>\n",
       "    </tr>\n",
       "    <tr>\n",
       "      <th>172</th>\n",
       "      <td>1.5</td>\n",
       "      <td>saga</td>\n",
       "      <td>28</td>\n",
       "      <td>0.445610</td>\n",
       "      <td>0.460543</td>\n",
       "    </tr>\n",
       "    <tr>\n",
       "      <th>173</th>\n",
       "      <td>1.5</td>\n",
       "      <td>saga</td>\n",
       "      <td>11</td>\n",
       "      <td>0.445601</td>\n",
       "      <td>0.460517</td>\n",
       "    </tr>\n",
       "    <tr>\n",
       "      <th>174</th>\n",
       "      <td>1.5</td>\n",
       "      <td>saga</td>\n",
       "      <td>42</td>\n",
       "      <td>0.445608</td>\n",
       "      <td>0.460535</td>\n",
       "    </tr>\n",
       "  </tbody>\n",
       "</table>\n",
       "<p>175 rows × 5 columns</p>\n",
       "</div>"
      ],
      "text/plain": [
       "     alpha solver  random_state  Train RMSE  Test RMSE\n",
       "0      0.5   auto             1    0.445258   0.459637\n",
       "1      0.5   auto             8    0.445258   0.459637\n",
       "2      0.5   auto            28    0.445258   0.459637\n",
       "3      0.5   auto            11    0.445258   0.459637\n",
       "4      0.5   auto            42    0.445258   0.459637\n",
       "..     ...    ...           ...         ...        ...\n",
       "170    1.5   saga             1    0.445604   0.460554\n",
       "171    1.5   saga             8    0.445604   0.460534\n",
       "172    1.5   saga            28    0.445610   0.460543\n",
       "173    1.5   saga            11    0.445601   0.460517\n",
       "174    1.5   saga            42    0.445608   0.460535\n",
       "\n",
       "[175 rows x 5 columns]"
      ]
     },
     "execution_count": 53,
     "metadata": {},
     "output_type": "execute_result"
    }
   ],
   "source": [
    "train = []\n",
    "test = []\n",
    "alpha_params = []\n",
    "solver_params = []\n",
    "rs_params = []\n",
    "for i in [0.5,0.8,1,1.2,1.5]:\n",
    "    for j in ['auto', 'svd', 'cholesky', 'lsqr', 'sparse_cg', 'sag', 'saga']:\n",
    "        for k in [1,8,28,11,42]:\n",
    "            alpha_params.append(i)\n",
    "            solver_params.append(j)\n",
    "            rs_params.append(k)\n",
    "            train_rmse, test_rmse = model_eval(Ridge(alpha=i,solver=j,random_state=k),\n",
    "                                               X_train,X_test,y_train,y_test)\n",
    "            train.append(train_rmse)\n",
    "            test.append(test_rmse)\n",
    "            \n",
    "dfr = pd.DataFrame(zip(alpha_params,solver_params,rs_params,train,test),\n",
    "                 columns = ['alpha','solver','random_state','Train RMSE','Test RMSE'])\n",
    "dfr"
   ]
  },
  {
   "cell_type": "code",
   "execution_count": 54,
   "id": "d5be0a90",
   "metadata": {},
   "outputs": [
    {
     "data": {
      "text/plain": [
       "(0.4452453709146934, 140)"
      ]
     },
     "execution_count": 54,
     "metadata": {},
     "output_type": "execute_result"
    }
   ],
   "source": [
    "dfr['Train RMSE'].min(), dfr['Train RMSE'].argmin()"
   ]
  },
  {
   "cell_type": "code",
   "execution_count": 55,
   "id": "8d1a9230",
   "metadata": {},
   "outputs": [
    {
     "data": {
      "text/plain": [
       "(0.4596173734134762, 70)"
      ]
     },
     "execution_count": 55,
     "metadata": {},
     "output_type": "execute_result"
    }
   ],
   "source": [
    "dfr['Test RMSE'].min(), dfr['Test RMSE'].argmin()"
   ]
  },
  {
   "cell_type": "code",
   "execution_count": 59,
   "id": "4f61c80b",
   "metadata": {
    "scrolled": false
   },
   "outputs": [
    {
     "data": {
      "text/plain": [
       "alpha                1.0\n",
       "solver              auto\n",
       "random_state           1\n",
       "Train RMSE      0.445258\n",
       "Test RMSE       0.459617\n",
       "Name: 70, dtype: object"
      ]
     },
     "execution_count": 59,
     "metadata": {},
     "output_type": "execute_result"
    }
   ],
   "source": [
    "dfr.iloc[70,:]"
   ]
  },
  {
   "cell_type": "code",
   "execution_count": 108,
   "id": "a5c9bb78",
   "metadata": {},
   "outputs": [],
   "source": [
    "class final_model:\n",
    "    \n",
    "    def __init__(self):\n",
    "        self.model1 = None\n",
    "        self.model2 = None\n",
    "        \n",
    "    def fit(self,X,y):\n",
    "        self.model1 = RandomForestRegressor(criterion='squared_error',\n",
    "                                           max_depth=4.0,\n",
    "                                           ccp_alpha=0.0,\n",
    "                                           n_estimators=4,random_state=8)\n",
    "        self.model2 = AdaBoostRegressor(base_estimator=DecisionTreeRegressor(criterion='absolute_error',\n",
    "                                                                             max_depth=3,\n",
    "                                                                             ccp_alpha=0,\n",
    "                                                                            random_state=1),\n",
    "                                                                 n_estimators=11,learning_rate=1.2,loss='exponential',\n",
    "                                        random_state=28)\n",
    "        self.model1.fit(X,y)\n",
    "        self.model2.fit(X,y)\n",
    "        \n",
    "    def predict(self,X):\n",
    "        y_pred1 = np.apply_along_axis((lambda x:np.round(x,3)),arr=self.model1.predict(X),axis=0)\n",
    "        y_pred2 = np.apply_along_axis((lambda x:np.round(x,3)),arr=self.model2.predict(X),axis=0)\n",
    "        y_pred = [np.round((1*i+5*j)/6.0,3) for i,j in zip(y_pred1,y_pred2)]\n",
    "        return np.array(y_pred)"
   ]
  },
  {
   "cell_type": "code",
   "execution_count": 109,
   "id": "8f8bc991",
   "metadata": {},
   "outputs": [
    {
     "name": "stdout",
     "output_type": "stream",
     "text": [
      "Train RMSE:  0.4215327717187582\n",
      "Test RMSE:  0.4413522940436892\n"
     ]
    }
   ],
   "source": [
    "fm = final_model()\n",
    "fm.fit(X_train,y_train)\n",
    "y_pred_fm_train = fm.predict(X_train)\n",
    "y_pred_fm_test = fm.predict(X_test)\n",
    "print(\"Train RMSE: \",rmse(y_train,y_pred_fm_train))\n",
    "print(\"Test RMSE: \",rmse(y_test,y_pred_fm_test))"
   ]
  },
  {
   "cell_type": "code",
   "execution_count": 110,
   "id": "822b7424",
   "metadata": {},
   "outputs": [
    {
     "name": "stdout",
     "output_type": "stream",
     "text": [
      "RMSE:  0.4251403516122586\n"
     ]
    }
   ],
   "source": [
    "fm2 = final_model()\n",
    "fm2.fit(X,y)\n",
    "y_pred_fm2 = fm2.predict(X)\n",
    "print(\"RMSE: \",rmse(y,y_pred_fm2))"
   ]
  },
  {
   "cell_type": "code",
   "execution_count": 12,
   "id": "38149e4a",
   "metadata": {},
   "outputs": [],
   "source": [
    "model1 = RandomForestRegressor(criterion='squared_error',\n",
    "                                           max_depth=4.0,\n",
    "                                           ccp_alpha=0.0,\n",
    "                                           n_estimators=4,random_state=8).fit(X,y)\n",
    "model2 = AdaBoostRegressor(base_estimator=DecisionTreeRegressor(criterion='absolute_error',\n",
    "                                                                             max_depth=3,\n",
    "                                                                             ccp_alpha=0,\n",
    "                                                                            random_state=1),\n",
    "                                                                 n_estimators=11,learning_rate=1.2,loss='exponential',\n",
    "                                        random_state=28).fit(X,y)"
   ]
  },
  {
   "cell_type": "code",
   "execution_count": 14,
   "id": "7dfc5d20",
   "metadata": {},
   "outputs": [],
   "source": [
    "pickle.dump(model1, open('../models/fetal_bw_m1.sav', 'wb'))\n",
    "pickle.dump(model2, open('../models/fetal_bw_m2.sav', 'wb'))"
   ]
  }
 ],
 "metadata": {
  "kernelspec": {
   "display_name": "Python 3 (ipykernel)",
   "language": "python",
   "name": "python3"
  },
  "language_info": {
   "codemirror_mode": {
    "name": "ipython",
    "version": 3
   },
   "file_extension": ".py",
   "mimetype": "text/x-python",
   "name": "python",
   "nbconvert_exporter": "python",
   "pygments_lexer": "ipython3",
   "version": "3.9.9"
  }
 },
 "nbformat": 4,
 "nbformat_minor": 5
}
